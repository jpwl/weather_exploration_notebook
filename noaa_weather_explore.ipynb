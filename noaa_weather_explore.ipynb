{
 "cells": [
  {
   "cell_type": "code",
   "execution_count": 1,
   "id": "596cd8db",
   "metadata": {},
   "outputs": [],
   "source": [
    "import pandas as pd\n",
    "import numpy as np # just in case\n",
    "import os\n",
    "#import requests # todo"
   ]
  },
  {
   "cell_type": "code",
   "execution_count": 2,
   "id": "f267d67c",
   "metadata": {},
   "outputs": [],
   "source": [
    "# download from https://www.ncei.noaa.gov/data/global-summary-of-the-day/archive/\n",
    "# in future will impl simple requests.get()\n",
    "files = [f'../../Downloads/2022/{f}' for f in os.listdir('../../Downloads/2022/')]\n",
    "states = ['LA', 'CA', 'OR', 'TN', 'NC', 'WA', 'AZ', 'NY', 'TX', 'CO', 'MA', 'IL', 'GA', 'NV', 'UT']"
   ]
  },
  {
   "cell_type": "code",
   "execution_count": 19,
   "id": "3d20d9df",
   "metadata": {},
   "outputs": [],
   "source": [
    "dfs = []\n",
    "for f in files:\n",
    "    df = pd.read_csv(f)\n",
    "    if str(df.iloc[0].NAME).endswith('US'):\n",
    "        dfs.append(df)\n",
    "df_m = pd.concat(dfs, ignore_index=True)"
   ]
  },
  {
   "cell_type": "code",
   "execution_count": 20,
   "id": "f8a603ef",
   "metadata": {
    "scrolled": true
   },
   "outputs": [],
   "source": [
    "# mask to keep specified states\n",
    "df = df_m[df_m.NAME.str[-5:-3].isin(states)]\n",
    "#df = df[df.NAME.str.split(',').apply(lambda x: x[0] in cities)]"
   ]
  },
  {
   "cell_type": "code",
   "execution_count": 26,
   "id": "61bd4dc1",
   "metadata": {},
   "outputs": [],
   "source": [
    "#groupby weather station, how many obs fall between temp\n",
    "fp = df.groupby('NAME')['TEMP'].apply(lambda x: ((x>= 57) & (x <= 68)).mean() * 100).reset_index().sort_values(by='TEMP', ascending=False).reset_index(drop=True)\n",
    "fp.columns=[\"PLACE\", \"PERCENTAGE_IN_RANGE\"]"
   ]
  },
  {
   "cell_type": "code",
   "execution_count": 28,
   "id": "d9af082d",
   "metadata": {},
   "outputs": [],
   "source": [
    "# save\n",
    "fp.to_csv('../../Downloads/fp.csv')"
   ]
  }
 ],
 "metadata": {
  "kernelspec": {
   "display_name": "Python 3 (ipykernel)",
   "language": "python",
   "name": "python3"
  },
  "language_info": {
   "codemirror_mode": {
    "name": "ipython",
    "version": 3
   },
   "file_extension": ".py",
   "mimetype": "text/x-python",
   "name": "python",
   "nbconvert_exporter": "python",
   "pygments_lexer": "ipython3",
   "version": "3.9.7"
  }
 },
 "nbformat": 4,
 "nbformat_minor": 5
}
